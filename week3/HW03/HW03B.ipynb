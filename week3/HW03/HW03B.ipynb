{
 "cells": [
  {
   "cell_type": "markdown",
   "metadata": {
    "id": "QshK8s21WBrf"
   },
   "source": [
    "# HW03B\n",
    "\n",
    "Some exercises to get started with lists, dicts and data in Python\n",
    "\n",
    "## Goals\n",
    "\n",
    "- Gain experience with a popular scripting language used for ML/AI projects and research\n",
    "- Get familiar with Python's notation for lists and objects\n",
    "- Experiment with Python's unique functionalities for processing lists and objects\n",
    "- Process a dataset using Python\n",
    "\n",
    "All of these skills are invaluable when working in any data-driven project, or any project that requires any kind of data processing or the use of ML models."
   ]
  },
  {
   "cell_type": "markdown",
   "metadata": {
    "id": "7Hf8SXUwWOho"
   },
   "source": [
    "### Setup\n",
    "\n",
    "Run the following 2 cells to import all necessary libraries and helpers for this homework"
   ]
  },
  {
   "cell_type": "code",
   "execution_count": 1,
   "metadata": {},
   "outputs": [],
   "source": [
    "from HW03_utils import object_from_json_path, Tests"
   ]
  },
  {
   "cell_type": "markdown",
   "metadata": {
    "id": "prKGt8bzScNA"
   },
   "source": [
    "### Working with data files\n",
    "\n",
    "Find the name of the 3 cities that are geographically closest to the world's most populous city.\n",
    "\n",
    "# 🤔😱\n"
   ]
  },
  {
   "cell_type": "markdown",
   "metadata": {
    "id": "FKsnl_NYTSk0"
   },
   "source": [
    "#### Load Data:\n",
    "\n",
    "Let's break this down into a few sub-problems.\n",
    "\n",
    "First, let's load a JSON file that has information about large cities in the world.\n",
    "\n",
    "The file at this [URL](https://raw.githubusercontent.com/DM-GY-9103-2024F-H/9103-utils/main/datasets/json/cities50k.json) has a list of cities formatted like this:\n",
    "\n",
    "```py\n",
    "{\n",
    "  \"name\": \"Pittsburgh\",\n",
    "  \"country\": \"US\",\n",
    "  \"admin1\": \"Pennsylvania\",\n",
    "  \"lat\": 40.4406200,\n",
    "  \"lon\": -79.9958900,\n",
    "  \"pop\": 304391\n",
    "}\n",
    "```\n",
    "\n",
    "This is just like how we loaded ANSUR data files in class:"
   ]
  },
  {
   "cell_type": "code",
   "execution_count": 2,
   "metadata": {},
   "outputs": [],
   "source": [
    "# Define the location of the json file here\n",
    "CITIES_FILE = \"./data/cities50k.json\"\n",
    "\n",
    "# Use the object_from_json_url() function to load contents from \n",
    "# the json file into a Python object called \"info_cities\"\n",
    "\n",
    "info_cities = object_from_json_path(CITIES_FILE)"
   ]
  },
  {
   "cell_type": "markdown",
   "metadata": {
    "id": "KeWkaI_lYzIE"
   },
   "source": [
    "#### Exercise A:\n",
    "\n",
    "Ok. We should now have a list of objects with information about cities.\n",
    "\n",
    "Explore the data and answer the following questions:\n",
    "- How many cities are in this list?\n",
    "- What's the name of the first city on the list?\n",
    "- What are the latitude and longitude of the last city on the list?\n",
    "- What are the populations for the largest and smallest cities?\n",
    "- What's the name of the city with the largest population?\n"
   ]
  },
  {
   "cell_type": "code",
   "execution_count": null,
   "metadata": {
    "tags": [
     "work_cell"
    ]
   },
   "outputs": [],
   "source": [
    "# Work on A here\n",
    "\n",
    "# How many cities are in the list?\n",
    "\n",
    "num_cities = \n",
    "\n",
    "\n",
    "# What's the name of the first city on the list?\n",
    "\n",
    "first_city = \"\"\n",
    "\n",
    "\n",
    "# What are the latitude and longitude of the last city on the list?\n",
    "\n",
    "last_latitude = \n",
    "last_longitude = \n",
    "\n",
    "\n",
    "# What are the populations for the largest and smallest cities?\n",
    "\n",
    "largest_population = \n",
    "smallest_population = \n",
    "\n",
    "\n",
    "# What's the name of the city with the largest population?\n",
    "\n",
    "largest_city_name = \"\""
   ]
  },
  {
   "cell_type": "code",
   "execution_count": 5,
   "metadata": {
    "vscode": {
     "languageId": "ruby"
    }
   },
   "outputs": [
    {
     "name": "stdout",
     "output_type": "stream",
     "text": [
      "8670\n",
      "Abu Dhabi\n",
      "-17.88333 30.7\n",
      "22315474 50011\n",
      "Shanghai\n"
     ]
    }
   ],
   "source": [
    "# How many cities are in the list?\n",
    "num_cities = len(info_cities)\n",
    "print(num_cities)\n",
    "\n",
    "# What's the name of the first city on the list?\n",
    "first_city = info_cities[0]['name']\n",
    "print(first_city)\n",
    "\n",
    "# What are the latitude and longitude of the last city on the list?\n",
    "last_latitude = info_cities[-1]['lat']\n",
    "last_longitude = info_cities[-1]['lon']\n",
    "print(last_latitude, last_longitude)\n",
    "\n",
    "# What are the populations for the largest and smallest cities?\n",
    "populations = [city['pop'] for city in info_cities]\n",
    "largest_population = max(populations)\n",
    "smallest_population = min(populations)\n",
    "print(largest_population, smallest_population)\n",
    "\n",
    "# What's the name of the city with the largest population?\n",
    "largest_city_name = next(city['name'] for city in info_cities if city['pop'] == largest_population)\n",
    "print(largest_city_name)"
   ]
  },
  {
   "cell_type": "markdown",
   "metadata": {},
   "source": [
    "#### Test A"
   ]
  },
  {
   "cell_type": "code",
   "execution_count": 6,
   "metadata": {},
   "outputs": [
    {
     "name": "stdout",
     "output_type": "stream",
     "text": [
      "A: All tests passed 🎉🎉🎉\n"
     ]
    }
   ],
   "source": [
    "# Test A\n",
    "answers = [num_cities, first_city, last_latitude, last_longitude, largest_population, smallest_population, largest_city_name]\n",
    "\n",
    "Tests.test(\"A\", answers)"
   ]
  },
  {
   "cell_type": "markdown",
   "metadata": {
    "id": "nJylXsSrZ7DH"
   },
   "source": [
    "#### Exercise B:\n",
    "\n",
    "We have the largest city's name and population, but we need its location.\n",
    "\n",
    "We can recycle some of the logic from above to get the whole object that contains information for the largest city."
   ]
  },
  {
   "cell_type": "code",
   "execution_count": 8,
   "metadata": {
    "tags": [
     "work_cell"
    ]
   },
   "outputs": [
    {
     "name": "stdout",
     "output_type": "stream",
     "text": [
      "{'name': 'Shanghai', 'country': 'CN', 'admin1': 'Shanghai Shi', 'lat': 31.22222, 'lon': 121.45806, 'pop': 22315474}\n"
     ]
    }
   ],
   "source": [
    "# Work on B here\n",
    "\n",
    "largest_city = next(city for city in info_cities if city['name'] == largest_city_name)\n",
    "print(largest_city)\n"
   ]
  },
  {
   "cell_type": "code",
   "execution_count": 9,
   "metadata": {},
   "outputs": [
    {
     "name": "stdout",
     "output_type": "stream",
     "text": [
      "B: All tests passed 🎉🎉🎉\n"
     ]
    }
   ],
   "source": [
    "# Test B\n",
    "Tests.test(\"B\", largest_city)"
   ]
  },
  {
   "cell_type": "markdown",
   "metadata": {
    "id": "nJylXsSrZ7DH"
   },
   "source": [
    "#### Exercise C:\n",
    "\n",
    "We should have all info about the largest city here.\n",
    "\n",
    "Now, we'll iterate through the list and use each city's latitude and longitude to calculate its distance from the largest city.\n",
    "\n",
    "Althought not $100\\%$ correct, it's ok to use the [2D Euclidean distances](https://en.wikipedia.org/wiki/Euclidean_distance#Two_dimensions) for this.\n",
    "\n",
    "Could be useful to define a function `distance(cityA, cityB)` that returns the distance between two cities."
   ]
  },
  {
   "cell_type": "code",
   "execution_count": 14,
   "metadata": {
    "tags": [
     "work_cell"
    ]
   },
   "outputs": [
    {
     "name": "stdout",
     "output_type": "stream",
     "text": [
      "1.4401235573727684\n"
     ]
    }
   ],
   "source": [
    "from math import sqrt\n",
    "\n",
    "# Work on C here\n",
    "\n",
    "# Implement the helper function for calculating distances between 2 cities\n",
    "\n",
    "def distance(cityA, cityB):\n",
    "  return sqrt((cityA['lat'] - cityB['lat'])**2 + (cityA['lon'] - cityB['lon'])**2)\n",
    "\n",
    "\n",
    "cityA = info_cities[0]\n",
    "cityB = info_cities[1]\n",
    "print(distance(cityA, cityB))\n",
    "\n",
    "\n"
   ]
  },
  {
   "cell_type": "code",
   "execution_count": 11,
   "metadata": {},
   "outputs": [
    {
     "name": "stdout",
     "output_type": "stream",
     "text": [
      "C: All tests passed 🎉🎉🎉\n"
     ]
    }
   ],
   "source": [
    "# Test C\n",
    "Tests.test(\"C\", distance)"
   ]
  },
  {
   "cell_type": "markdown",
   "metadata": {
    "id": "27RWtZVJeRp4"
   },
   "source": [
    "#### Exercise D:\n",
    "\n",
    "Ok. We implemented a function to calculate the distance between 2 cities, let's use it now.\n",
    "\n",
    "Iterate through the list of cities again, calculate the distance from each city to the largest city, and add that as a new feature/key to each city's entry:\n",
    "\n",
    "```py\n",
    "{\n",
    "  \"name\": \"Pittsburgh\",\n",
    "  \"country\": \"US\",\n",
    "  \"admin1\": \"Pennsylvania\",\n",
    "  \"lat\": 40.4406200,\n",
    "  \"lon\": -79.9958900,\n",
    "  \"pop\": 304391,\n",
    "  \"distance_to_largest\": 1222.32\n",
    "}\n",
    "```\n",
    "\n",
    "Just make sure the `key` that holds the distance value is called `distance_to_largest`."
   ]
  },
  {
   "cell_type": "code",
   "execution_count": 23,
   "metadata": {
    "tags": [
     "work_cell"
    ]
   },
   "outputs": [],
   "source": [
    "# Work on D here\n",
    "\n",
    "# TODO: calculate every city's distance from the largest city \n",
    "# and add that info to each city's entry in info_cities\n",
    "for city in info_cities:\n",
    "    city['distance_to_largest'] = distance(city, largest_city)\n"
   ]
  },
  {
   "cell_type": "code",
   "execution_count": 16,
   "metadata": {},
   "outputs": [
    {
     "name": "stdout",
     "output_type": "stream",
     "text": [
      "D: All tests passed 🎉🎉🎉\n"
     ]
    }
   ],
   "source": [
    "# Test D\n",
    "Tests.test(\"D\", info_cities)"
   ]
  },
  {
   "cell_type": "markdown",
   "metadata": {
    "id": "xJG6V-DufauE"
   },
   "source": [
    "#### Exercise E:\n",
    "\n",
    "Now, sort the array from the previous step by distance and get the name of the $3$ cities closest to the largest city, but not including the largest city. In other words, if you sort the list from the exercise above by ascending `distance_to_largest`, the $3$ cities closest to the largest city will be in the slice `[1:4]`. The city at index $0$ is the city with the largest population, and should have a distance of $0$ from itself.\n",
    "\n",
    "The answer should be a list with city names.\n",
    "\n",
    "Something like:\n",
    "\n",
    "```python\n",
    "closest_3 = [ \"pittsburgh\", \"liverpool\", \"oakland\" ]\n",
    "```\n",
    "\n",
    "We saw how to sort lists of objects in lecture."
   ]
  },
  {
   "cell_type": "code",
   "execution_count": 24,
   "metadata": {
    "tags": [
     "work_cell"
    ]
   },
   "outputs": [
    {
     "name": "stdout",
     "output_type": "stream",
     "text": [
      "['Songjiang', 'Zhujiajiao', 'Kunshan']\n"
     ]
    }
   ],
   "source": [
    "# Work on E here\n",
    "\n",
    "# Sort the array and get the name and population of the 3 cities closest to the largest city\n",
    "\n",
    "sorted_cities = sorted(info_cities, key=lambda city: city['distance_to_largest'])\n",
    "\n",
    "closest_3 = [city['name'] for city in sorted_cities[1:4]]\n",
    "print(closest_3)\n"
   ]
  },
  {
   "cell_type": "code",
   "execution_count": 25,
   "metadata": {},
   "outputs": [
    {
     "name": "stdout",
     "output_type": "stream",
     "text": [
      "E: All tests passed 🎉🎉🎉\n"
     ]
    }
   ],
   "source": [
    "# Test E\n",
    "Tests.test(\"E\", closest_3)"
   ]
  }
 ],
 "metadata": {
  "colab": {
   "authorship_tag": "ABX9TyPxe2qYxIG7EblrvD1C4Pmv",
   "provenance": []
  },
  "kernelspec": {
   "display_name": ".venv",
   "language": "python",
   "name": "python3"
  },
  "language_info": {
   "codemirror_mode": {
    "name": "ipython",
    "version": 3
   },
   "file_extension": ".py",
   "mimetype": "text/x-python",
   "name": "python",
   "nbconvert_exporter": "python",
   "pygments_lexer": "ipython3",
   "version": "3.10.16"
  }
 },
 "nbformat": 4,
 "nbformat_minor": 0
}
